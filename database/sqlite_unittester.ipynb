{
 "cells": [
  {
   "cell_type": "code",
   "execution_count": 1,
   "metadata": {
    "dotnet_interactive": {
     "language": "csharp"
    },
    "polyglot_notebook": {
     "kernelName": "csharp"
    }
   },
   "outputs": [],
   "source": [
    "import os, sys, datetime, sqlite3, uuid\n",
    "\n",
    "PATH_DB = \"./logs.sqlite\"\n",
    "DB_TABLE = \"Logs\""
   ]
  },
  {
   "cell_type": "code",
   "execution_count": 2,
   "metadata": {},
   "outputs": [],
   "source": [
    "#Create database connection\n",
    "RUNTIME_DBCONN = sqlite3.connect(PATH_DB)\n",
    "RUNTIME_DBCUR = RUNTIME_DBCONN.cursor()\n",
    "\n",
    "#Create table if not exist\n",
    "RUNTIME_DBCUR.execute(\"\"\"CREATE TABLE IF NOT EXISTS \"\"\" + DB_TABLE + \"\"\"(\n",
    "\tlog_id INTEGER PRIMARY KEY AUTOINCREMENT,\n",
    "    log_createdby TEXT,\n",
    "\tlog_timestamp TEXT, \n",
    "\tlog_sidBackend TEXT,\n",
    "\tlog_sidFrontend TEXT,\n",
    "\tlog_type INT,\n",
    "    log_action INT,\n",
    "\tlog_message TEXT\n",
    ");\"\"\")\n",
    "RUNTIME_DBCONN.commit()\n",
    "\n",
    "#Close database connection\n",
    "RUNTIME_DBCUR.close()\n",
    "RUNTIME_DBCONN.close()"
   ]
  },
  {
   "cell_type": "code",
   "execution_count": 5,
   "metadata": {},
   "outputs": [],
   "source": [
    "#Create database connection\n",
    "RUNTIME_DBCONN = sqlite3.connect(PATH_DB)\n",
    "RUNTIME_DBCUR = RUNTIME_DBCONN.cursor()\n",
    "\n",
    "for row in RUNTIME_DBCUR.execute(\"\"\"SELECT * FROM \"\"\" + DB_TABLE + \"\"\";\"\"\"):\n",
    "\tprint(row)\n",
    "\n",
    "#Close database connection\n",
    "RUNTIME_DBCUR.close()\n",
    "RUNTIME_DBCONN.close()"
   ]
  },
  {
   "cell_type": "code",
   "execution_count": 4,
   "metadata": {},
   "outputs": [],
   "source": [
    "#Create database connection\n",
    "RUNTIME_DBCONN = sqlite3.connect(PATH_DB)\n",
    "RUNTIME_DBCUR = RUNTIME_DBCONN.cursor()\n",
    "\n",
    "RUNTIME_DBCUR.execute(\"\"\"DELETE FROM \"\"\" + DB_TABLE + \"\"\";\"\"\")\n",
    "RUNTIME_DBCONN.commit()\n",
    "\n",
    "#Close database connection\n",
    "RUNTIME_DBCUR.close()\n",
    "RUNTIME_DBCONN.close()"
   ]
  },
  {
   "cell_type": "code",
   "execution_count": null,
   "metadata": {},
   "outputs": [],
   "source": [
    "#Create database connection\n",
    "RUNTIME_DBCONN = sqlite3.connect(PATH_DB)\n",
    "RUNTIME_DBCUR = RUNTIME_DBCONN.cursor()\n",
    "\n",
    "createdby = \"Server\"\n",
    "timestamp = str(datetime.datetime.now())\n",
    "sidFrontend = str(uuid.uuid4())\n",
    "sidBackend = str(uuid.uuid4())\n",
    "type = 0\n",
    "action = 0\n",
    "message = \"Testing\"\n",
    "\n",
    "#[log_types].[log_action]\n",
    "#\t0. Debugging\n",
    "#\t\t0.0. Info Message\n",
    "#\t\t0.1. Error Message\n",
    "#\t1. Server Action\n",
    "#\t\t1.0. Start Quiz\n",
    "#\t\t1.1. End Quiz\n",
    "#\t2. Client Action\n",
    "#\t\t2.0. Answer Question\n",
    "\n",
    "query = \"\"\"INSERT INTO \"\"\" + DB_TABLE + \"\"\" \n",
    "\t(\n",
    "        log_createdby,\n",
    "        log_timestamp,\n",
    "        log_sidBackend,\n",
    "        log_sidFrontend,\n",
    "        log_type,\n",
    "        log_action,\n",
    "        log_message\n",
    "\t) VALUES (\n",
    "\t\t'\"\"\" + str(createdby) + \"\"\"',\n",
    "\t\t'\"\"\" + str(timestamp) + \"\"\"',\n",
    "\t\t'\"\"\" + str(sidBackend) + \"\"\"',\n",
    "\t\t'\"\"\" + str(sidFrontend) + \"\"\"',\n",
    "\t\t\"\"\" + str(type) + \"\"\",\n",
    "\t\t\"\"\" + str(action) + \"\"\",\n",
    "\t\t'\"\"\" + str(message) + \"\"\"'\n",
    "\t);\"\"\"\n",
    "\n",
    "RUNTIME_DBCUR.execute(query)\n",
    "RUNTIME_DBCONN.commit()\n",
    "\n",
    "for row in RUNTIME_DBCUR.execute(\"\"\"SELECT * FROM \"\"\" + DB_TABLE + \"\"\";\"\"\"):\n",
    "\tprint(row)\n",
    "\n",
    "#Close database connection\n",
    "RUNTIME_DBCUR.close()\n",
    "RUNTIME_DBCONN.close()"
   ]
  },
  {
   "cell_type": "code",
   "execution_count": null,
   "metadata": {},
   "outputs": [],
   "source": [
    "#Create database connection\n",
    "RUNTIME_DBCONN = sqlite3.connect(PATH_DB)\n",
    "RUNTIME_DBCUR = RUNTIME_DBCONN.cursor()\n",
    "\n",
    "RUNTIME_DBCUR.execute(\n",
    "\t\"\"\"SELECT * FROM \"\"\" + DB_TABLE + \"\"\" ORDER BY log_timestamp DESC;\"\"\")\n",
    "queryResult = RUNTIME_DBCUR.fetchall()\n",
    "\n",
    "for row in queryResult:\n",
    "    print(row)\n",
    "    \n",
    "#Close database connection\n",
    "RUNTIME_DBCUR.close()\n",
    "RUNTIME_DBCONN.close()"
   ]
  },
  {
   "cell_type": "code",
   "execution_count": null,
   "metadata": {},
   "outputs": [],
   "source": [
    "#Create database connection\n",
    "RUNTIME_DBCONN = sqlite3.connect(PATH_DB)\n",
    "RUNTIME_DBCUR = RUNTIME_DBCONN.cursor()\n",
    "\n",
    "RUNTIME_DBCUR.execute(\n",
    "\t\"\"\"DELETE FROM \"\"\" + DB_TABLE + \"\"\";\"\"\")\n",
    "RUNTIME_DBCONN.commit()\n",
    "\n",
    "#Close database connection\n",
    "RUNTIME_DBCUR.close()\n",
    "RUNTIME_DBCONN.close()"
   ]
  },
  {
   "cell_type": "code",
   "execution_count": null,
   "metadata": {},
   "outputs": [],
   "source": [
    "from datetime import datetime as dt\n",
    "import math\n",
    "dtFormat = \"%Y-%m-%d %H:%M:%S.%f\"\n",
    "\n",
    "startTimeStr = \"2023-03-24 14:01:03.141231\"\n",
    "endTimeStr = \"2023-03-24 14:02:07.504415\"\n",
    "\n",
    "startTime = dt.strptime(startTimeStr, dtFormat)\n",
    "endTime =  dt.strptime(endTimeStr, dtFormat)\n",
    "\n",
    "diff = ((endTime - startTime).total_seconds())\n",
    "print(diff)\n",
    "\n",
    "print(math.floor(diff))"
   ]
  }
 ],
 "metadata": {
  "kernelspec": {
   "display_name": "Python 3",
   "language": "python",
   "name": "python3"
  },
  "language_info": {
   "codemirror_mode": {
    "name": "ipython",
    "version": 3
   },
   "file_extension": ".py",
   "mimetype": "text/x-python",
   "name": "python",
   "nbconvert_exporter": "python",
   "pygments_lexer": "ipython3",
   "version": "3.10.4"
  },
  "orig_nbformat": 4,
  "polyglot_notebook": {
   "kernelInfo": {
    "defaultKernelName": "csharp",
    "items": [
     {
      "aliases": [],
      "name": "csharp"
     }
    ]
   }
  }
 },
 "nbformat": 4,
 "nbformat_minor": 2
}
